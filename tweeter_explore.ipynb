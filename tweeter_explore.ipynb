{
 "cells": [
  {
   "cell_type": "code",
   "execution_count": 22,
   "metadata": {},
   "outputs": [],
   "source": [
    "import pandas as pd \n",
    "import os \n",
    "import ast \n",
    "\n",
    "tweeters = os.listdir('news_tweets')\n",
    "tweeter = [pd.read_csv(f\"news_tweets/{x}\") for x in tweeters]\n",
    "tweets = pd.concat(tweeter)\n"
   ]
  },
  {
   "cell_type": "code",
   "execution_count": 23,
   "metadata": {},
   "outputs": [],
   "source": [
    "\n",
    "twee = tweets.copy()\n",
    "# 'id', 'conversation_id', 'created_at', 'date', \n",
    "# 'time', 'timezone', 'user_id', 'username', 'name', \n",
    "# 'place', 'tweet', 'language', 'mentions', 'urls', \n",
    "# 'photos', 'replies_count', 'retweets_count', 'likes_count', \n",
    "# 'hashtags', 'cashtags', 'link', 'retweet', 'quote_url', \n",
    "# 'video', 'thumbnail', 'near', 'geo', 'source', 'user_rt_id', \n",
    "# 'user_rt', 'retweet_id', 'reply_to', 'retweet_date', \n",
    "# 'translate', 'trans_src', 'trans_dest'\n",
    "\n",
    "\n",
    "p = twee\n",
    "# print(p)\n",
    "# print(p.columns.tolist())\n",
    "\n",
    "# print(p['username'].unique().tolist())\n",
    "# 'abcnews', 'newscomauhq', 'sbsnews', 'guardianaus', 'smh'"
   ]
  },
  {
   "cell_type": "code",
   "execution_count": 24,
   "metadata": {},
   "outputs": [
    {
     "name": "stdout",
     "output_type": "stream",
     "text": [
      "                       id      conversation_id                created_at  \\\n",
      "0     1555415650155241472  1555415650155241472  2022-08-05 14:49:23 AEST   \n",
      "1     1555410417991794688  1555410417991794688  2022-08-05 14:28:36 AEST   \n",
      "2     1555407344863002627  1555407344863002627  2022-08-05 14:16:23 AEST   \n",
      "3     1555405166643494915  1555405166643494915  2022-08-05 14:07:44 AEST   \n",
      "4     1555402309001158657  1555402309001158657  2022-08-05 13:56:23 AEST   \n",
      "...                   ...                  ...                       ...   \n",
      "8103  1562242515776212993  1562242515776212993   2022-08-24 00:56:55 UTC   \n",
      "8104  1562238600028495872  1562238600028495872   2022-08-24 00:41:21 UTC   \n",
      "8105  1562234975625555968  1562234975625555968   2022-08-24 00:26:57 UTC   \n",
      "8106  1562232047732592640  1562232047732592640   2022-08-24 00:15:19 UTC   \n",
      "8107  1562229226891522049  1562229226891522049   2022-08-24 00:04:07 UTC   \n",
      "\n",
      "            date      time  timezone     user_id     username  \\\n",
      "0     2022-08-05  14:49:23      1000  1092378031  guardianaus   \n",
      "1     2022-08-05  14:28:36      1000  1092378031  guardianaus   \n",
      "2     2022-08-05  14:16:23      1000  1092378031  guardianaus   \n",
      "3     2022-08-05  14:07:44      1000  1092378031  guardianaus   \n",
      "4     2022-08-05  13:56:23      1000  1092378031  guardianaus   \n",
      "...          ...       ...       ...         ...          ...   \n",
      "8103  2022-08-24  00:56:55         0  1092378031  guardianaus   \n",
      "8104  2022-08-24  00:41:21         0  1092378031  guardianaus   \n",
      "8105  2022-08-24  00:26:57         0  1092378031  guardianaus   \n",
      "8106  2022-08-24  00:15:19         0  1092378031  guardianaus   \n",
      "8107  2022-08-24  00:04:07         0  1092378031  guardianaus   \n",
      "\n",
      "                    name  place  ... geo source user_rt_id user_rt retweet_id  \\\n",
      "0     Guardian Australia    NaN  ... NaN    NaN        NaN     NaN        NaN   \n",
      "1     Guardian Australia    NaN  ... NaN    NaN        NaN     NaN        NaN   \n",
      "2     Guardian Australia    NaN  ... NaN    NaN        NaN     NaN        NaN   \n",
      "3     Guardian Australia    NaN  ... NaN    NaN        NaN     NaN        NaN   \n",
      "4     Guardian Australia    NaN  ... NaN    NaN        NaN     NaN        NaN   \n",
      "...                  ...    ...  ...  ..    ...        ...     ...        ...   \n",
      "8103  Guardian Australia    NaN  ... NaN    NaN        NaN     NaN        NaN   \n",
      "8104  Guardian Australia    NaN  ... NaN    NaN        NaN     NaN        NaN   \n",
      "8105  Guardian Australia    NaN  ... NaN    NaN        NaN     NaN        NaN   \n",
      "8106  Guardian Australia    NaN  ... NaN    NaN        NaN     NaN        NaN   \n",
      "8107  Guardian Australia    NaN  ... NaN    NaN        NaN     NaN        NaN   \n",
      "\n",
      "      reply_to  retweet_date  translate trans_src trans_dest  \n",
      "0           []           NaN        NaN       NaN        NaN  \n",
      "1           []           NaN        NaN       NaN        NaN  \n",
      "2           []           NaN        NaN       NaN        NaN  \n",
      "3           []           NaN        NaN       NaN        NaN  \n",
      "4           []           NaN        NaN       NaN        NaN  \n",
      "...        ...           ...        ...       ...        ...  \n",
      "8103        []           NaN        NaN       NaN        NaN  \n",
      "8104        []           NaN        NaN       NaN        NaN  \n",
      "8105        []           NaN        NaN       NaN        NaN  \n",
      "8106        []           NaN        NaN       NaN        NaN  \n",
      "8107        []           NaN        NaN       NaN        NaN  \n",
      "\n",
      "[8108 rows x 36 columns]\n",
      "['id', 'conversation_id', 'created_at', 'date', 'time', 'timezone', 'user_id', 'username', 'name', 'place', 'tweet', 'language', 'mentions', 'urls', 'photos', 'replies_count', 'retweets_count', 'likes_count', 'hashtags', 'cashtags', 'link', 'retweet', 'quote_url', 'video', 'thumbnail', 'near', 'geo', 'source', 'user_rt_id', 'user_rt', 'retweet_id', 'reply_to', 'retweet_date', 'translate', 'trans_src', 'trans_dest']\n"
     ]
    }
   ],
   "source": [
    "graun = twee.loc[twee['username']== 'guardianaus'].copy()\n",
    "\n",
    "\n",
    "p = graun\n",
    "print(p)\n",
    "print(p.columns.tolist())"
   ]
  },
  {
   "cell_type": "code",
   "execution_count": 32,
   "metadata": {},
   "outputs": [
    {
     "name": "stdout",
     "output_type": "stream",
     "text": [
      "114\n"
     ]
    }
   ],
   "source": [
    "news = twee.loc[twee['username']== 'newscomauhq'].copy()\n",
    "\n",
    "\n",
    "\n",
    "news = news[['date', 'urls']]\n",
    "\n",
    "### Turn the string to a list\n",
    "news['urls'] = news['urls'].apply(lambda x: ast.literal_eval(str(x))).str[0]\n",
    "# news['urls'] = ast.literal_eval(news['urls'])\n",
    "# news['url_count'] = news['urls'][0]\n",
    "# news['url_count'] = news['urls'].map(len)\n",
    "\n",
    "# news = news[-1:]\n",
    "# urls = news['urls'].values[0][0]\n",
    "\n",
    "# print(urls)\n",
    "\n",
    "# print(len(news))\n",
    "# 3472\n",
    "news = news.loc[news['urls'].str.contains('https://www.news.com.au/national/')]\n",
    "# print(len(news))\n",
    "# 468\n",
    "\n",
    "news = news.drop_duplicates(subset=['urls'])\n",
    "# print(len(news))\n",
    "# 114\n",
    "\n",
    "# p = news\n",
    "# print(p)\n",
    "# # print(p.columns.tolist())\n",
    "# print(p['url_count'].unique().tolist())"
   ]
  }
 ],
 "metadata": {
  "kernelspec": {
   "display_name": "Python 3.9.5 64-bit",
   "language": "python",
   "name": "python3"
  },
  "language_info": {
   "codemirror_mode": {
    "name": "ipython",
    "version": 3
   },
   "file_extension": ".py",
   "mimetype": "text/x-python",
   "name": "python",
   "nbconvert_exporter": "python",
   "pygments_lexer": "ipython3",
   "version": "3.9.12"
  },
  "orig_nbformat": 4,
  "vscode": {
   "interpreter": {
    "hash": "aee8b7b246df8f9039afb4144a1f6fd8d2ca17a180786b69acc140d282b71a49"
   }
  }
 },
 "nbformat": 4,
 "nbformat_minor": 2
}
