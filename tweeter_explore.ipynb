{
 "cells": [
  {
   "cell_type": "code",
   "execution_count": 3,
   "metadata": {},
   "outputs": [],
   "source": [
    "import pandas as pd \n",
    "import os \n",
    "\n",
    "tweeters = os.listdir('news_tweets')\n",
    "tweeter = [pd.read_csv(f\"news_tweets/{x}\") for x in tweeters]\n",
    "tweets = pd.concat(tweeter)\n"
   ]
  },
  {
   "cell_type": "code",
   "execution_count": 4,
   "metadata": {},
   "outputs": [
    {
     "name": "stdout",
     "output_type": "stream",
     "text": [
      "                       id      conversation_id                created_at  \\\n",
      "0     1555416857271668737  1555416857271668737  2022-08-05 14:54:11 AEST   \n",
      "1     1555415266070171648  1555415266070171648  2022-08-05 14:47:52 AEST   \n",
      "2     1555415266065993729  1555415266065993729  2022-08-05 14:47:52 AEST   \n",
      "3     1555407710283173890  1555407710283173890  2022-08-05 14:17:50 AEST   \n",
      "4     1555407709599543296  1555407709599543296  2022-08-05 14:17:50 AEST   \n",
      "...                   ...                  ...                       ...   \n",
      "2913  1562264315591532545  1562264315591532545   2022-08-24 02:23:32 UTC   \n",
      "2914  1562260920759648256  1562260920759648256   2022-08-24 02:10:03 UTC   \n",
      "2915  1562257419933487108  1562257419933487108   2022-08-24 01:56:08 UTC   \n",
      "2916  1562254553227345926  1562254553227345926   2022-08-24 01:44:45 UTC   \n",
      "2917  1562237202007896065  1562237202007896065   2022-08-24 00:35:48 UTC   \n",
      "\n",
      "            date      time  timezone   user_id username  \\\n",
      "0     2022-08-05  14:54:11      1000   2768501  abcnews   \n",
      "1     2022-08-05  14:47:52      1000   2768501  abcnews   \n",
      "2     2022-08-05  14:47:52      1000   2768501  abcnews   \n",
      "3     2022-08-05  14:17:50      1000   2768501  abcnews   \n",
      "4     2022-08-05  14:17:50      1000   2768501  abcnews   \n",
      "...          ...       ...       ...       ...      ...   \n",
      "2913  2022-08-24  02:23:32         0  16675569      smh   \n",
      "2914  2022-08-24  02:10:03         0  16675569      smh   \n",
      "2915  2022-08-24  01:56:08         0  16675569      smh   \n",
      "2916  2022-08-24  01:44:45         0  16675569      smh   \n",
      "2917  2022-08-24  00:35:48         0  16675569      smh   \n",
      "\n",
      "                           name  place  ... geo source user_rt_id user_rt  \\\n",
      "0                      ABC News    NaN  ... NaN    NaN        NaN     NaN   \n",
      "1                      ABC News    NaN  ... NaN    NaN        NaN     NaN   \n",
      "2                      ABC News    NaN  ... NaN    NaN        NaN     NaN   \n",
      "3                      ABC News    NaN  ... NaN    NaN        NaN     NaN   \n",
      "4                      ABC News    NaN  ... NaN    NaN        NaN     NaN   \n",
      "...                         ...    ...  ...  ..    ...        ...     ...   \n",
      "2913  The Sydney Morning Herald    NaN  ... NaN    NaN        NaN     NaN   \n",
      "2914  The Sydney Morning Herald    NaN  ... NaN    NaN        NaN     NaN   \n",
      "2915  The Sydney Morning Herald    NaN  ... NaN    NaN        NaN     NaN   \n",
      "2916  The Sydney Morning Herald    NaN  ... NaN    NaN        NaN     NaN   \n",
      "2917  The Sydney Morning Herald    NaN  ... NaN    NaN        NaN     NaN   \n",
      "\n",
      "     retweet_id  reply_to  retweet_date  translate trans_src trans_dest  \n",
      "0           NaN        []           NaN        NaN       NaN        NaN  \n",
      "1           NaN        []           NaN        NaN       NaN        NaN  \n",
      "2           NaN        []           NaN        NaN       NaN        NaN  \n",
      "3           NaN        []           NaN        NaN       NaN        NaN  \n",
      "4           NaN        []           NaN        NaN       NaN        NaN  \n",
      "...         ...       ...           ...        ...       ...        ...  \n",
      "2913        NaN        []           NaN        NaN       NaN        NaN  \n",
      "2914        NaN        []           NaN        NaN       NaN        NaN  \n",
      "2915        NaN        []           NaN        NaN       NaN        NaN  \n",
      "2916        NaN        []           NaN        NaN       NaN        NaN  \n",
      "2917        NaN        []           NaN        NaN       NaN        NaN  \n",
      "\n",
      "[22067 rows x 36 columns]\n",
      "['id', 'conversation_id', 'created_at', 'date', 'time', 'timezone', 'user_id', 'username', 'name', 'place', 'tweet', 'language', 'mentions', 'urls', 'photos', 'replies_count', 'retweets_count', 'likes_count', 'hashtags', 'cashtags', 'link', 'retweet', 'quote_url', 'video', 'thumbnail', 'near', 'geo', 'source', 'user_rt_id', 'user_rt', 'retweet_id', 'reply_to', 'retweet_date', 'translate', 'trans_src', 'trans_dest']\n"
     ]
    }
   ],
   "source": [
    "\n",
    "twee = tweets.copy()\n",
    "# 'id', 'conversation_id', 'created_at', 'date', \n",
    "# 'time', 'timezone', 'user_id', 'username', 'name', \n",
    "# 'place', 'tweet', 'language', 'mentions', 'urls', \n",
    "# 'photos', 'replies_count', 'retweets_count', 'likes_count', \n",
    "# 'hashtags', 'cashtags', 'link', 'retweet', 'quote_url', \n",
    "# 'video', 'thumbnail', 'near', 'geo', 'source', 'user_rt_id', \n",
    "# 'user_rt', 'retweet_id', 'reply_to', 'retweet_date', \n",
    "# 'translate', 'trans_src', 'trans_dest'\n",
    "\n",
    "\n",
    "p = twee\n",
    "print(p)\n",
    "print(p.columns.tolist())"
   ]
  }
 ],
 "metadata": {
  "kernelspec": {
   "display_name": "Python 3.9.5 64-bit",
   "language": "python",
   "name": "python3"
  },
  "language_info": {
   "codemirror_mode": {
    "name": "ipython",
    "version": 3
   },
   "file_extension": ".py",
   "mimetype": "text/x-python",
   "name": "python",
   "nbconvert_exporter": "python",
   "pygments_lexer": "ipython3",
   "version": "3.9.12"
  },
  "orig_nbformat": 4,
  "vscode": {
   "interpreter": {
    "hash": "aee8b7b246df8f9039afb4144a1f6fd8d2ca17a180786b69acc140d282b71a49"
   }
  }
 },
 "nbformat": 4,
 "nbformat_minor": 2
}
